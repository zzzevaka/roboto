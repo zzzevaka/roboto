{
 "cells": [
  {
   "cell_type": "code",
   "execution_count": 1,
   "metadata": {},
   "outputs": [],
   "source": [
    "from v20.order import Order\n",
    "from oanda.api_client import get_oanda_api_client\n",
    "from oanda.models import Account, Trade, Transaction"
   ]
  },
  {
   "cell_type": "code",
   "execution_count": 2,
   "metadata": {},
   "outputs": [],
   "source": [
    "acc = Account.objects.last()"
   ]
  },
  {
   "cell_type": "code",
   "execution_count": 3,
   "metadata": {},
   "outputs": [
    {
     "data": {
      "text/plain": [
       "'101-004-11374365-001'"
      ]
     },
     "execution_count": 3,
     "metadata": {},
     "output_type": "execute_result"
    }
   ],
   "source": [
    "acc.external_id"
   ]
  },
  {
   "cell_type": "code",
   "execution_count": 4,
   "metadata": {},
   "outputs": [],
   "source": [
    "api = get_oanda_api_client()"
   ]
  },
  {
   "cell_type": "code",
   "execution_count": 5,
   "metadata": {},
   "outputs": [],
   "source": [
    "response = api.order.market(\n",
    "        acc.external_id,\n",
    "        instrument='EUR_USD',\n",
    "        units=50\n",
    ")"
   ]
  },
  {
   "cell_type": "code",
   "execution_count": 6,
   "metadata": {},
   "outputs": [
    {
     "data": {
      "text/plain": [
       "'Created'"
      ]
     },
     "execution_count": 6,
     "metadata": {},
     "output_type": "execute_result"
    }
   ],
   "source": [
    "response.reason"
   ]
  },
  {
   "cell_type": "code",
   "execution_count": 7,
   "metadata": {},
   "outputs": [
    {
     "data": {
      "text/plain": [
       "{'orderCreateTransaction': <v20.transaction.MarketOrderTransaction at 0x7f55a9940278>,\n",
       " 'orderCancelTransaction': <v20.transaction.OrderCancelTransaction at 0x7f55a99402b0>,\n",
       " 'relatedTransactionIDs': ['132', '133'],\n",
       " 'lastTransactionID': '133'}"
      ]
     },
     "execution_count": 7,
     "metadata": {},
     "output_type": "execute_result"
    }
   ],
   "source": [
    "response.body"
   ]
  },
  {
   "cell_type": "code",
   "execution_count": 8,
   "metadata": {},
   "outputs": [
    {
     "data": {
      "text/plain": [
       "{'id': '133',\n",
       " 'time': '2019-07-06T15:21:12.756983541Z',\n",
       " 'userID': 11374365,\n",
       " 'accountID': '101-004-11374365-001',\n",
       " 'batchID': '132',\n",
       " 'requestID': '78610885643036515',\n",
       " 'type': 'ORDER_CANCEL',\n",
       " 'orderID': '132',\n",
       " 'reason': 'MARKET_HALTED'}"
      ]
     },
     "execution_count": 8,
     "metadata": {},
     "output_type": "execute_result"
    }
   ],
   "source": [
    "response.body['orderCancelTransaction'].dict()"
   ]
  },
  {
   "cell_type": "code",
   "execution_count": 22,
   "metadata": {},
   "outputs": [
    {
     "data": {
      "text/plain": [
       "{'id': '94',\n",
       " 'time': '2019-07-04T17:03:06.166064629Z',\n",
       " 'userID': 11374365,\n",
       " 'accountID': '101-004-11374365-001',\n",
       " 'batchID': '94',\n",
       " 'requestID': '60595787999318470',\n",
       " 'type': 'MARKET_ORDER',\n",
       " 'instrument': 'EUR_USD',\n",
       " 'units': '50.0',\n",
       " 'timeInForce': 'FOK',\n",
       " 'positionFill': 'DEFAULT',\n",
       " 'reason': 'CLIENT_ORDER'}"
      ]
     },
     "execution_count": 22,
     "metadata": {},
     "output_type": "execute_result"
    }
   ],
   "source": [
    "response.body['orderCreateTransaction'].dict()"
   ]
  },
  {
   "cell_type": "code",
   "execution_count": 23,
   "metadata": {},
   "outputs": [
    {
     "data": {
      "text/plain": [
       "{'tradeID': '95',\n",
       " 'units': '50.0',\n",
       " 'price': 1.12823,\n",
       " 'guaranteedExecutionFee': '0.0',\n",
       " 'halfSpreadCost': '0.0031',\n",
       " 'initialMarginRequired': '1.665'}"
      ]
     },
     "execution_count": 23,
     "metadata": {},
     "output_type": "execute_result"
    }
   ],
   "source": [
    "response.body['orderFillTransaction'].tradeOpened.dict()"
   ]
  },
  {
   "cell_type": "code",
   "execution_count": 24,
   "metadata": {},
   "outputs": [],
   "source": [
    "response2 = api.trade.list(acc.external_id)"
   ]
  },
  {
   "cell_type": "code",
   "execution_count": 25,
   "metadata": {},
   "outputs": [
    {
     "data": {
      "text/plain": [
       "{'id': '95',\n",
       " 'instrument': 'EUR_USD',\n",
       " 'price': 1.12823,\n",
       " 'openTime': '2019-07-04T17:03:06.166064629Z',\n",
       " 'state': 'OPEN',\n",
       " 'initialUnits': '50.0',\n",
       " 'initialMarginRequired': '1.665',\n",
       " 'currentUnits': '50.0',\n",
       " 'realizedPL': '0.0',\n",
       " 'unrealizedPL': '-0.0062',\n",
       " 'marginUsed': '1.665',\n",
       " 'financing': '0.0'}"
      ]
     },
     "execution_count": 25,
     "metadata": {},
     "output_type": "execute_result"
    }
   ],
   "source": [
    "response2.body['trades'][0].dict()"
   ]
  },
  {
   "cell_type": "code",
   "execution_count": 26,
   "metadata": {},
   "outputs": [],
   "source": [
    "response3 = api.trade.close(acc.external_id, response2.body['trades'][0].id)"
   ]
  },
  {
   "cell_type": "code",
   "execution_count": 27,
   "metadata": {},
   "outputs": [
    {
     "data": {
      "text/plain": [
       "'OK'"
      ]
     },
     "execution_count": 27,
     "metadata": {},
     "output_type": "execute_result"
    }
   ],
   "source": [
    "response3.reason"
   ]
  },
  {
   "cell_type": "code",
   "execution_count": 29,
   "metadata": {},
   "outputs": [
    {
     "data": {
      "text/plain": [
       "{'id': '96',\n",
       " 'time': '2019-07-04T17:03:08.156009915Z',\n",
       " 'userID': 11374365,\n",
       " 'accountID': '101-004-11374365-001',\n",
       " 'batchID': '96',\n",
       " 'requestID': '60595788007710124',\n",
       " 'type': 'MARKET_ORDER',\n",
       " 'instrument': 'EUR_USD',\n",
       " 'units': '-50.0',\n",
       " 'timeInForce': 'FOK',\n",
       " 'positionFill': 'REDUCE_ONLY',\n",
       " 'tradeClose': {'tradeID': '95', 'units': 'ALL'},\n",
       " 'reason': 'TRADE_CLOSE'}"
      ]
     },
     "execution_count": 29,
     "metadata": {},
     "output_type": "execute_result"
    }
   ],
   "source": [
    "response3.body['orderCreateTransaction'].dict()"
   ]
  },
  {
   "cell_type": "code",
   "execution_count": 118,
   "metadata": {},
   "outputs": [
    {
     "data": {
      "text/plain": [
       "{'id': '80',\n",
       " 'time': '2019-07-04T15:55:25.714498423Z',\n",
       " 'userID': 11374365,\n",
       " 'accountID': '101-004-11374365-001',\n",
       " 'batchID': '79',\n",
       " 'requestID': '60595770968260326',\n",
       " 'type': 'ORDER_FILL',\n",
       " 'orderID': '79',\n",
       " 'instrument': 'EUR_USD',\n",
       " 'units': '-50.0',\n",
       " 'gainQuoteHomeConversionFactor': '0.886249833828',\n",
       " 'lossQuoteHomeConversionFactor': '0.886328384667',\n",
       " 'price': 1.12825,\n",
       " 'fullVWAP': 1.12825,\n",
       " 'fullPrice': {'type': 'PRICE',\n",
       "  'bids': [{'price': 1.12825, 'liquidity': '10000000'}],\n",
       "  'asks': [{'price': 1.12835, 'liquidity': '10000000'}],\n",
       "  'closeoutBid': 1.1281,\n",
       "  'closeoutAsk': 1.1285},\n",
       " 'reason': 'MARKET_ORDER_TRADE_CLOSE',\n",
       " 'pl': '0.0027',\n",
       " 'financing': '0.0',\n",
       " 'commission': '0.0',\n",
       " 'guaranteedExecutionFee': '0.0',\n",
       " 'accountBalance': '99999.7412',\n",
       " 'tradesClosed': [{'tradeID': '78',\n",
       "   'units': '-50.0',\n",
       "   'price': 1.12825,\n",
       "   'realizedPL': '0.0027',\n",
       "   'financing': '0.0',\n",
       "   'guaranteedExecutionFee': '0.0',\n",
       "   'halfSpreadCost': '0.0022'}],\n",
       " 'halfSpreadCost': '0.0022'}"
      ]
     },
     "execution_count": 118,
     "metadata": {},
     "output_type": "execute_result"
    }
   ],
   "source": [
    "r1.body['orderFillTransaction'].dict()"
   ]
  },
  {
   "cell_type": "code",
   "execution_count": 77,
   "metadata": {},
   "outputs": [
    {
     "data": {
      "text/plain": [
       "0.0027"
      ]
     },
     "execution_count": 77,
     "metadata": {},
     "output_type": "execute_result"
    }
   ],
   "source": [
    "r1.body['orderFillTransaction'].pl"
   ]
  },
  {
   "cell_type": "code",
   "execution_count": 71,
   "metadata": {},
   "outputs": [],
   "source": [
    "resp = api.trade.list(acc.external_id)"
   ]
  },
  {
   "cell_type": "code",
   "execution_count": 72,
   "metadata": {},
   "outputs": [
    {
     "data": {
      "text/plain": [
       "[]"
      ]
     },
     "execution_count": 72,
     "metadata": {},
     "output_type": "execute_result"
    }
   ],
   "source": [
    "resp.body['trades']"
   ]
  },
  {
   "cell_type": "code",
   "execution_count": 42,
   "metadata": {},
   "outputs": [
    {
     "ename": "IndexError",
     "evalue": "list index out of range",
     "output_type": "error",
     "traceback": [
      "\u001b[0;31m---------------------------------------------------------------------------\u001b[0m",
      "\u001b[0;31mIndexError\u001b[0m                                Traceback (most recent call last)",
      "\u001b[0;32m<ipython-input-42-0e1e60a8aee2>\u001b[0m in \u001b[0;36m<module>\u001b[0;34m\u001b[0m\n\u001b[0;32m----> 1\u001b[0;31m \u001b[0mresp\u001b[0m \u001b[0;34m=\u001b[0m \u001b[0mapi\u001b[0m\u001b[0;34m.\u001b[0m\u001b[0mtrade\u001b[0m\u001b[0;34m.\u001b[0m\u001b[0mclose\u001b[0m\u001b[0;34m(\u001b[0m\u001b[0macc\u001b[0m\u001b[0;34m.\u001b[0m\u001b[0mexternal_id\u001b[0m\u001b[0;34m,\u001b[0m \u001b[0mresp\u001b[0m\u001b[0;34m.\u001b[0m\u001b[0mbody\u001b[0m\u001b[0;34m[\u001b[0m\u001b[0;34m'trades'\u001b[0m\u001b[0;34m]\u001b[0m\u001b[0;34m[\u001b[0m\u001b[0;36m0\u001b[0m\u001b[0;34m]\u001b[0m\u001b[0;34m.\u001b[0m\u001b[0mid\u001b[0m\u001b[0;34m)\u001b[0m\u001b[0;34m\u001b[0m\u001b[0;34m\u001b[0m\u001b[0m\n\u001b[0m",
      "\u001b[0;31mIndexError\u001b[0m: list index out of range"
     ]
    }
   ],
   "source": [
    "resp = api.trade.close(acc.external_id, resp.body['trades'][0].id)"
   ]
  },
  {
   "cell_type": "code",
   "execution_count": 43,
   "metadata": {},
   "outputs": [
    {
     "data": {
      "text/plain": [
       "{'trades': [], 'lastTransactionID': '66'}"
      ]
     },
     "execution_count": 43,
     "metadata": {},
     "output_type": "execute_result"
    }
   ],
   "source": [
    "resp.body"
   ]
  },
  {
   "cell_type": "code",
   "execution_count": 32,
   "metadata": {},
   "outputs": [
    {
     "data": {
      "text/plain": [
       "<v20.transaction.MarketOrderTransaction at 0x7f0608028160>"
      ]
     },
     "execution_count": 32,
     "metadata": {},
     "output_type": "execute_result"
    }
   ],
   "source": [
    "resp.body['orderCreateTransaction']"
   ]
  },
  {
   "cell_type": "code",
   "execution_count": 38,
   "metadata": {},
   "outputs": [
    {
     "data": {
      "text/plain": [
       "-0.015"
      ]
     },
     "execution_count": 38,
     "metadata": {},
     "output_type": "execute_result"
    }
   ],
   "source": [
    "resp.body['orderFillTransaction'].pl"
   ]
  },
  {
   "cell_type": "code",
   "execution_count": null,
   "metadata": {},
   "outputs": [],
   "source": []
  }
 ],
 "metadata": {
  "kernelspec": {
   "display_name": "Django Shell-Plus",
   "language": "python",
   "name": "django_extensions"
  },
  "language_info": {
   "codemirror_mode": {
    "name": "ipython",
    "version": 3
   },
   "file_extension": ".py",
   "mimetype": "text/x-python",
   "name": "python",
   "nbconvert_exporter": "python",
   "pygments_lexer": "ipython3",
   "version": "3.6.8"
  }
 },
 "nbformat": 4,
 "nbformat_minor": 2
}
