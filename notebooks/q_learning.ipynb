{
 "cells": [
  {
   "cell_type": "code",
   "execution_count": 1,
   "metadata": {},
   "outputs": [],
   "source": [
    "import logging\n",
    "\n",
    "import pandas as pd\n",
    "\n",
    "from qlearning.envs.trading_env import TradingEnv\n",
    "from qlearning.agents.dqn_agent import DQNAgent\n",
    "from learning.preprocessing import reshape_with_window\n",
    "from sklearn.model_selection import train_test_split"
   ]
  },
  {
   "cell_type": "code",
   "execution_count": 2,
   "metadata": {},
   "outputs": [],
   "source": [
    "logger = logging.getLogger()\n",
    "logger.setLevel(logging.INFO)\n",
    "log_fh = logging.FileHandler('logs/dqn_lstm.log')\n",
    "logger.addHandler(log_fh)"
   ]
  },
  {
   "cell_type": "code",
   "execution_count": 3,
   "metadata": {},
   "outputs": [],
   "source": [
    "def get_data(reshape3d=True):\n",
    "    df = pd.read_csv('data/gbp_cad_finam.csv', index_col=['time'])\n",
    "\n",
    "    reshape_columns = [c for c in df.columns if 'finam' in c]\n",
    "    new_df = reshape_with_window(df, [1,2,3,4,5,6,7,8,9,10], reshape_columns, reshape3d)\n",
    "    new_df = new_df[-1500:]\n",
    "    X = new_df[-1500:]\n",
    "    if reshape3d:\n",
    "        Y = X[:,-1,0]\n",
    "    else:\n",
    "        Y = X[:,0]\n",
    "    return X, Y"
   ]
  },
  {
   "cell_type": "code",
   "execution_count": 4,
   "metadata": {},
   "outputs": [],
   "source": [
    "X_data, Y_data = get_data(reshape3d=True)\n",
    "X_train, X_test, Y_train, Y_test = train_test_split(X_data, Y_data, shuffle=False)"
   ]
  },
  {
   "cell_type": "code",
   "execution_count": 5,
   "metadata": {},
   "outputs": [],
   "source": [
    "train_env = TradingEnv(X_train, Y_train, order_close_threshold=0.015, order_tax=0.005)\n",
    "state_size = train_env.observation_space.shape[1]\n",
    "action_size = train_env.action_space.n"
   ]
  },
  {
   "cell_type": "code",
   "execution_count": 6,
   "metadata": {},
   "outputs": [
    {
     "name": "stderr",
     "output_type": "stream",
     "text": [
      "WARNING: Logging before flag parsing goes to stderr.\n",
      "W0909 17:36:28.738510 139967994881856 deprecation.py:506] From /usr/local/lib/python3.6/site-packages/tensorflow/python/ops/init_ops.py:1251: calling VarianceScaling.__init__ (from tensorflow.python.ops.init_ops) with dtype is deprecated and will be removed in a future version.\n",
      "Instructions for updating:\n",
      "Call initializer instance with the dtype argument instead of passing it to the constructor\n"
     ]
    }
   ],
   "source": [
    "from tensorflow.keras.models import Sequential\n",
    "from tensorflow.keras.layers import Dense, LSTM, Dropout, Flatten\n",
    "from tensorflow.keras.optimizers import Adam\n",
    "\n",
    "# model = Sequential()\n",
    "# model.add(Dense(10, input_dim=state_size, activation='relu'))\n",
    "# for _ in range(10):\n",
    "#     model.add(Dense(10, activation='relu'))\n",
    "# model.add(Dense(action_size, activation='softmax'))\n",
    "# model.compile(loss='mse', optimizer=Adam())\n",
    "\n",
    "def create_model(df):\n",
    "    model = Sequential()\n",
    "    model.add(LSTM(20, input_shape=df.shape[1:]))\n",
    "    model.add(Dropout(0.1))\n",
    "    model.add(Flatten(input_shape=df.shape[1:]))\n",
    "    model.add(Dense(10, activation='relu'))\n",
    "    model.add(Dropout(0.1))\n",
    "    model.add(Dense(10, activation='relu'))\n",
    "    model.add(Dropout(0.1))\n",
    "    model.add(Dense(action_size, activation='softmax'))\n",
    "    model.compile(loss='mse', optimizer='Adam', metrics=['accuracy'])\n",
    "    \n",
    "    return model\n",
    "\n",
    "model = create_model(X_train)"
   ]
  },
  {
   "cell_type": "code",
   "execution_count": 7,
   "metadata": {},
   "outputs": [
    {
     "name": "stdout",
     "output_type": "stream",
     "text": [
      "Model: \"sequential\"\n",
      "_________________________________________________________________\n",
      "Layer (type)                 Output Shape              Param #   \n",
      "=================================================================\n",
      "lstm (LSTM)                  (None, 20)                3200      \n",
      "_________________________________________________________________\n",
      "dropout (Dropout)            (None, 20)                0         \n",
      "_________________________________________________________________\n",
      "flatten (Flatten)            (None, 20)                0         \n",
      "_________________________________________________________________\n",
      "dense (Dense)                (None, 10)                210       \n",
      "_________________________________________________________________\n",
      "dropout_1 (Dropout)          (None, 10)                0         \n",
      "_________________________________________________________________\n",
      "dense_1 (Dense)              (None, 10)                110       \n",
      "_________________________________________________________________\n",
      "dropout_2 (Dropout)          (None, 10)                0         \n",
      "_________________________________________________________________\n",
      "dense_2 (Dense)              (None, 3)                 33        \n",
      "=================================================================\n",
      "Total params: 3,553\n",
      "Trainable params: 3,553\n",
      "Non-trainable params: 0\n",
      "_________________________________________________________________\n",
      "None\n"
     ]
    }
   ],
   "source": [
    "agent = DQNAgent(model=model, action_size=action_size)"
   ]
  },
  {
   "cell_type": "code",
   "execution_count": null,
   "metadata": {},
   "outputs": [],
   "source": [
    "EPISODES = 10\n",
    "BATCH_SIZE = 32\n",
    "\n",
    "for e in range(EPISODES):\n",
    "    state = train_env.reset()\n",
    "    actions = [0,0,0]\n",
    "    for step in range(train_env.n_step):\n",
    "        action = agent.act(state)\n",
    "        actions[action] += 1\n",
    "        next_state, reward, done, info = train_env.step(action)\n",
    "        agent.remember(state, action, reward, next_state, done)\n",
    "        \n",
    "        if done:\n",
    "            logger.info(f'episode: {e+1}/{EPISODES}, end value: {train_env.wallet_amount}. actions: {actions}')\n",
    "        if len(agent.memory) > BATCH_SIZE:\n",
    "            agent.replay(BATCH_SIZE)"
   ]
  }
 ],
 "metadata": {
  "kernelspec": {
   "display_name": "Django Shell-Plus",
   "language": "python",
   "name": "django_extensions"
  },
  "language_info": {
   "codemirror_mode": {
    "name": "ipython",
    "version": 3
   },
   "file_extension": ".py",
   "mimetype": "text/x-python",
   "name": "python",
   "nbconvert_exporter": "python",
   "pygments_lexer": "ipython3",
   "version": "3.6.9"
  }
 },
 "nbformat": 4,
 "nbformat_minor": 2
}
