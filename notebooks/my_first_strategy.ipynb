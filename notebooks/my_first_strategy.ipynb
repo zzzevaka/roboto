{
 "cells": [
  {
   "cell_type": "code",
   "execution_count": 1,
   "metadata": {},
   "outputs": [],
   "source": [
    "import re\n",
    "\n",
    "import pandas as pd\n",
    "\n",
    "from oanda.models import Account\n",
    "from strategy.models import Strategy\n",
    "from learning.models import LearningModel\n",
    "from learning.features import LearningFeatureStore"
   ]
  },
  {
   "cell_type": "code",
   "execution_count": 2,
   "metadata": {},
   "outputs": [
    {
     "data": {
      "text/plain": [
       "'101-004-11374365-001'"
      ]
     },
     "execution_count": 2,
     "metadata": {},
     "output_type": "execute_result"
    }
   ],
   "source": [
    "account = Account.objects.last()\n",
    "account.external_id"
   ]
  },
  {
   "cell_type": "code",
   "execution_count": 10,
   "metadata": {},
   "outputs": [],
   "source": [
    "fstore = LearningFeatureStore.get_all_features_store()\n",
    "features = [f for f in fstore.features.values() if re.search('open|close', f.name)]\n",
    "\n",
    "data = None\n",
    "for feature in features:\n",
    "    tmp_data = feature.load()\n",
    "    if data is None:\n",
    "        data = tmp_data\n",
    "    else:\n",
    "        data = pd.concat([data, tmp_data], axis=1, ignore_index=False)"
   ]
  },
  {
   "cell_type": "code",
   "execution_count": null,
   "metadata": {},
   "outputs": [],
   "source": []
  }
 ],
 "metadata": {
  "kernelspec": {
   "display_name": "Django Shell-Plus",
   "language": "python",
   "name": "django_extensions"
  },
  "language_info": {
   "codemirror_mode": {
    "name": "ipython",
    "version": 3
   },
   "file_extension": ".py",
   "mimetype": "text/x-python",
   "name": "python",
   "nbconvert_exporter": "python",
   "pygments_lexer": "ipython3",
   "version": "3.6.8"
  }
 },
 "nbformat": 4,
 "nbformat_minor": 2
}
