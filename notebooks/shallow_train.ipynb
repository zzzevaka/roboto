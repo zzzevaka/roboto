{
 "cells": [
  {
   "cell_type": "code",
   "execution_count": 1,
   "metadata": {},
   "outputs": [
    {
     "name": "stderr",
     "output_type": "stream",
     "text": [
      "/usr/local/lib/python3.6/importlib/_bootstrap.py:219: RuntimeWarning: numpy.ufunc size changed, may indicate binary incompatibility. Expected 216, got 192\n",
      "  return f(*args, **kwds)\n",
      "/usr/local/lib/python3.6/importlib/_bootstrap.py:219: RuntimeWarning: numpy.ufunc size changed, may indicate binary incompatibility. Expected 192 from C header, got 216 from PyObject\n",
      "  return f(*args, **kwds)\n"
     ]
    }
   ],
   "source": [
    "import pandas as pd\n",
    "from roboto.models import Candle, Instrument\n",
    "import matplotlib.pyplot as plt\n",
    "from sklearn.model_selection import train_test_split\n",
    "from sklearn.preprocessing import StandardScaler\n",
    "import tensorflow as tf\n",
    "from tensorflow.keras import optimizers\n",
    "from tensorflow.keras.models import Model, Sequential\n",
    "from tensorflow.keras.layers import Dense, Activation, Dropout, Flatten, LSTM, Reshape, Lambda, RepeatVector\n",
    "from xgboost import XGBClassifier"
   ]
  },
  {
   "cell_type": "code",
   "execution_count": 3,
   "metadata": {},
   "outputs": [
    {
     "name": "stdout",
     "output_type": "stream",
     "text": [
      "Populating the interactive namespace from numpy and matplotlib\n"
     ]
    }
   ],
   "source": [
    "%pylab inline"
   ]
  },
  {
   "cell_type": "code",
   "execution_count": 4,
   "metadata": {},
   "outputs": [],
   "source": [
    "instruments = Instrument.objects.all()"
   ]
  },
  {
   "cell_type": "code",
   "execution_count": 5,
   "metadata": {},
   "outputs": [],
   "source": [
    "frames = []\n",
    "\n",
    "for instrument in instruments:\n",
    "    columns = ('close',)\n",
    "    candles = list(instrument.candles.values_list('time', *columns))\n",
    "    dataframe_columns = (['{}_{}'.format(instrument.name, c) for c in columns])\n",
    "    tmp_df = pd.DataFrame(\n",
    "        columns=['time', *dataframe_columns],\n",
    "        data=candles,\n",
    "    )\n",
    "    tmp_df.set_index(['time'], inplace=True)\n",
    "    frames.append(tmp_df)"
   ]
  },
  {
   "cell_type": "code",
   "execution_count": 6,
   "metadata": {},
   "outputs": [],
   "source": [
    "data = pd.concat(frames, axis=1, ignore_index=False)"
   ]
  },
  {
   "cell_type": "code",
   "execution_count": 7,
   "metadata": {
    "scrolled": false
   },
   "outputs": [],
   "source": [
    "# plt.figure(figsize(20,2))\n",
    "# for column in data.columns:\n",
    "#     print (column)\n",
    "#     data[column].plot()\n",
    "#     plt.show()"
   ]
  },
  {
   "cell_type": "code",
   "execution_count": 8,
   "metadata": {},
   "outputs": [
    {
     "data": {
      "text/plain": [
       "Timestamp('2018-08-15 07:00:00+0000', tz='UTC')"
      ]
     },
     "execution_count": 8,
     "metadata": {},
     "output_type": "execute_result"
    }
   ],
   "source": [
    "first_full_field_index = None\n",
    "for index, row in data.iterrows():\n",
    "    if not row.isna().any():\n",
    "        first_full_field_index = index\n",
    "        break\n",
    "first_full_field_index"
   ]
  },
  {
   "cell_type": "code",
   "execution_count": 9,
   "metadata": {},
   "outputs": [],
   "source": [
    "data = data[first_full_field_index:]"
   ]
  },
  {
   "cell_type": "code",
   "execution_count": 10,
   "metadata": {},
   "outputs": [],
   "source": [
    "data = data.fillna(method='ffill')"
   ]
  },
  {
   "cell_type": "code",
   "execution_count": 11,
   "metadata": {},
   "outputs": [
    {
     "data": {
      "text/plain": [
       "False"
      ]
     },
     "execution_count": 11,
     "metadata": {},
     "output_type": "execute_result"
    }
   ],
   "source": [
    "data.isna().any().any()"
   ]
  },
  {
   "cell_type": "code",
   "execution_count": 3,
   "metadata": {},
   "outputs": [],
   "source": [
    "def create_df_with_diff(df, T):\n",
    "    m, f = df.shape\n",
    "    diff_df = None\n",
    "    for t in range(1, T+1):\n",
    "        tmp_v = df.diff(t).values.reshape(m,1,f)\n",
    "        if diff_df is None:\n",
    "            diff_df = tmp_v\n",
    "        else:\n",
    "            diff_df = np.hstack([diff_df, tmp_v])\n",
    "    return diff_df[T:]"
   ]
  },
  {
   "cell_type": "code",
   "execution_count": 4,
   "metadata": {},
   "outputs": [
    {
     "ename": "NameError",
     "evalue": "name 'data' is not defined",
     "output_type": "error",
     "traceback": [
      "\u001b[0;31m---------------------------------------------------------------------------\u001b[0m",
      "\u001b[0;31mNameError\u001b[0m                                 Traceback (most recent call last)",
      "\u001b[0;32m<ipython-input-4-b21924e0bb45>\u001b[0m in \u001b[0;36m<module>\u001b[0;34m\u001b[0m\n\u001b[1;32m      1\u001b[0m \u001b[0mscaler\u001b[0m \u001b[0;34m=\u001b[0m \u001b[0mStandardScaler\u001b[0m\u001b[0;34m(\u001b[0m\u001b[0;34m)\u001b[0m\u001b[0;34m\u001b[0m\u001b[0;34m\u001b[0m\u001b[0m\n\u001b[1;32m      2\u001b[0m \u001b[0;31m# scaled_data = scaler.fit_transform(data)\u001b[0m\u001b[0;34m\u001b[0m\u001b[0;34m\u001b[0m\u001b[0;34m\u001b[0m\u001b[0m\n\u001b[0;32m----> 3\u001b[0;31m \u001b[0mscaled_data\u001b[0m \u001b[0;34m=\u001b[0m \u001b[0mdata\u001b[0m\u001b[0;34m\u001b[0m\u001b[0;34m\u001b[0m\u001b[0m\n\u001b[0m",
      "\u001b[0;31mNameError\u001b[0m: name 'data' is not defined"
     ]
    }
   ],
   "source": [
    "scaler = StandardScaler()\n",
    "# scaled_data = scaler.fit_transform(data)\n",
    "scaled_data = data"
   ]
  },
  {
   "cell_type": "code",
   "execution_count": 5,
   "metadata": {},
   "outputs": [
    {
     "ename": "NameError",
     "evalue": "name 'scaled_data' is not defined",
     "output_type": "error",
     "traceback": [
      "\u001b[0;31m---------------------------------------------------------------------------\u001b[0m",
      "\u001b[0;31mNameError\u001b[0m                                 Traceback (most recent call last)",
      "\u001b[0;32m<ipython-input-5-cd8a15cf9c58>\u001b[0m in \u001b[0;36m<module>\u001b[0;34m\u001b[0m\n\u001b[0;32m----> 1\u001b[0;31m \u001b[0mnew_data\u001b[0m \u001b[0;34m=\u001b[0m \u001b[0mcreate_df_with_diff\u001b[0m\u001b[0;34m(\u001b[0m\u001b[0mscaled_data\u001b[0m\u001b[0;34m,\u001b[0m \u001b[0;36m5\u001b[0m\u001b[0;34m)\u001b[0m\u001b[0;34m\u001b[0m\u001b[0;34m\u001b[0m\u001b[0m\n\u001b[0m",
      "\u001b[0;31mNameError\u001b[0m: name 'scaled_data' is not defined"
     ]
    }
   ],
   "source": [
    "new_data = create_df_with_diff(scaled_data, 5)"
   ]
  },
  {
   "cell_type": "code",
   "execution_count": 15,
   "metadata": {},
   "outputs": [],
   "source": [
    "def reshape_to_2dim(df):\n",
    "    return df.reshape(df.shape[0], df.shape[1] * df.shape[2])"
   ]
  },
  {
   "cell_type": "code",
   "execution_count": 16,
   "metadata": {},
   "outputs": [],
   "source": [
    "# for target_i in range(new_data.shape[2]):\n",
    "#     print (target_i, end='--------\\n')\n",
    "    \n",
    "#     Y = (new_data[1:,0,target_i] > 0) * 1\n",
    "#     X = reshape_to_2dim(new_data[:-1])\n",
    "    \n",
    "#     model "
   ]
  },
  {
   "cell_type": "code",
   "execution_count": 17,
   "metadata": {},
   "outputs": [],
   "source": [
    "model_history = {}"
   ]
  },
  {
   "cell_type": "code",
   "execution_count": 18,
   "metadata": {
    "scrolled": false
   },
   "outputs": [
    {
     "name": "stdout",
     "output_type": "stream",
     "text": [
      "XAU_AUD_close\n",
      "--------\n",
      "\n",
      "WARNING:tensorflow:From /usr/local/lib/python3.6/site-packages/tensorflow/python/ops/resource_variable_ops.py:435: colocate_with (from tensorflow.python.framework.ops) is deprecated and will be removed in a future version.\n",
      "Instructions for updating:\n",
      "Colocations handled automatically by placer.\n",
      "WARNING:tensorflow:From /usr/local/lib/python3.6/site-packages/tensorflow/python/keras/layers/core.py:143: calling dropout (from tensorflow.python.ops.nn_ops) with keep_prob is deprecated and will be removed in a future version.\n",
      "Instructions for updating:\n",
      "Please use `rate` instead of `keep_prob`. Rate should be set to `rate = 1 - keep_prob`.\n",
      "Train on 3737 samples, validate on 1246 samples\n",
      " - 1s - loss: 0.7423 - acc: 0.4822 - val_loss: 0.6999 - val_acc: 0.5112\n",
      "USB02Y_USD_close\n",
      "--------\n",
      "\n",
      "Train on 3737 samples, validate on 1246 samples\n",
      " - 1s - loss: 0.7717 - acc: 0.5296 - val_loss: 0.7002 - val_acc: 0.5490\n",
      "EUR_HKD_close\n",
      "--------\n",
      "\n",
      "Train on 3737 samples, validate on 1246 samples\n",
      " - 1s - loss: 0.8079 - acc: 0.5025 - val_loss: 0.7279 - val_acc: 0.4839\n",
      "XAU_JPY_close\n",
      "--------\n",
      "\n",
      "Train on 3737 samples, validate on 1246 samples\n",
      " - 1s - loss: 0.7800 - acc: 0.5009 - val_loss: 0.7144 - val_acc: 0.4952\n",
      "TWIX_USD_close\n",
      "--------\n",
      "\n",
      "Train on 3737 samples, validate on 1246 samples\n",
      " - 1s - loss: 0.8414 - acc: 0.4600 - val_loss: 0.7273 - val_acc: 0.4864\n",
      "EUR_JPY_close\n",
      "--------\n",
      "\n",
      "Train on 3737 samples, validate on 1246 samples\n",
      " - 1s - loss: 0.7404 - acc: 0.4889 - val_loss: 0.7099 - val_acc: 0.4815\n",
      "WHEAT_USD_close\n",
      "--------\n",
      "\n",
      "Train on 3737 samples, validate on 1246 samples\n",
      " - 1s - loss: 0.6947 - acc: 0.6024 - val_loss: 0.6677 - val_acc: 0.6276\n",
      "GBP_PLN_close\n",
      "--------\n",
      "\n",
      "Train on 3737 samples, validate on 1246 samples\n",
      " - 1s - loss: 0.7510 - acc: 0.4916 - val_loss: 0.7141 - val_acc: 0.4904\n",
      "GBP_JPY_close\n",
      "--------\n",
      "\n",
      "Train on 3737 samples, validate on 1246 samples\n",
      " - 1s - loss: 0.7240 - acc: 0.5079 - val_loss: 0.7004 - val_acc: 0.4976\n",
      "USD_TRY_close\n",
      "--------\n",
      "\n",
      "Train on 3737 samples, validate on 1246 samples\n",
      " - 1s - loss: 0.8811 - acc: 0.4991 - val_loss: 0.7497 - val_acc: 0.5144\n",
      "HK33_HKD_close\n",
      "--------\n",
      "\n",
      "Train on 3737 samples, validate on 1246 samples\n",
      " - 1s - loss: 0.7761 - acc: 0.5261 - val_loss: 0.6623 - val_acc: 0.6276\n",
      "EUR_CAD_close\n",
      "--------\n",
      "\n",
      "Train on 3737 samples, validate on 1246 samples\n",
      " - 2s - loss: 0.7776 - acc: 0.4934 - val_loss: 0.7228 - val_acc: 0.4671\n",
      "USD_SEK_close\n",
      "--------\n",
      "\n",
      "Train on 3737 samples, validate on 1246 samples\n",
      " - 2s - loss: 0.7567 - acc: 0.4961 - val_loss: 0.7090 - val_acc: 0.5128\n",
      "GBP_SGD_close\n",
      "--------\n",
      "\n",
      "Train on 3737 samples, validate on 1246 samples\n",
      " - 2s - loss: 0.7338 - acc: 0.5028 - val_loss: 0.7032 - val_acc: 0.5281\n",
      "XAU_HKD_close\n",
      "--------\n",
      "\n",
      "Train on 3737 samples, validate on 1246 samples\n",
      " - 2s - loss: 0.7547 - acc: 0.4940 - val_loss: 0.6957 - val_acc: 0.5313\n",
      "EUR_GBP_close\n",
      "--------\n",
      "\n",
      "Train on 3737 samples, validate on 1246 samples\n",
      " - 2s - loss: 0.7967 - acc: 0.5103 - val_loss: 0.7180 - val_acc: 0.5185\n",
      "US2000_USD_close\n",
      "--------\n",
      "\n",
      "Train on 3737 samples, validate on 1246 samples\n",
      " - 2s - loss: 0.7725 - acc: 0.4953 - val_loss: 0.7247 - val_acc: 0.4896\n",
      "XPD_USD_close\n",
      "--------\n",
      "\n",
      "Train on 3737 samples, validate on 1246 samples\n",
      " - 2s - loss: 0.8190 - acc: 0.4991 - val_loss: 0.7497 - val_acc: 0.4775\n",
      "SUGAR_USD_close\n",
      "--------\n",
      "\n",
      "Train on 3737 samples, validate on 1246 samples\n",
      " - 2s - loss: 0.6420 - acc: 0.6305 - val_loss: 0.5649 - val_acc: 0.7600\n",
      "US30_USD_close\n",
      "--------\n",
      "\n",
      "Train on 3737 samples, validate on 1246 samples\n",
      " - 2s - loss: 0.7937 - acc: 0.4942 - val_loss: 0.7120 - val_acc: 0.5064\n",
      "GBP_HKD_close\n",
      "--------\n",
      "\n",
      "Train on 3737 samples, validate on 1246 samples\n",
      " - 2s - loss: 0.7091 - acc: 0.4902 - val_loss: 0.7009 - val_acc: 0.4960\n",
      "USB05Y_USD_close\n",
      "--------\n",
      "\n",
      "Train on 3737 samples, validate on 1246 samples\n",
      " - 2s - loss: 0.7385 - acc: 0.5114 - val_loss: 0.7014 - val_acc: 0.5345\n",
      "NATGAS_USD_close\n",
      "--------\n",
      "\n",
      "Train on 3737 samples, validate on 1246 samples\n",
      " - 2s - loss: 0.7164 - acc: 0.5229 - val_loss: 0.6868 - val_acc: 0.5530\n",
      "USD_ZAR_close\n",
      "--------\n",
      "\n",
      "Train on 3737 samples, validate on 1246 samples\n",
      " - 2s - loss: 0.7953 - acc: 0.5052 - val_loss: 0.7090 - val_acc: 0.5225\n"
     ]
    }
   ],
   "source": [
    "for target_i in range(new_data.shape[2])[100:]:\n",
    "    target_column = data.columns[target_i]\n",
    "    print (target_column, end='\\n--------\\n\\n')\n",
    "    \n",
    "    Y = (new_data[1:,0,target_i] > 0) * 1\n",
    "    X = new_data[:-1]\n",
    "    T = 20\n",
    "    \n",
    "    X_train, X_test, Y_train, Y_test = train_test_split(X, Y, shuffle=False)\n",
    "    \n",
    "    model = Sequential()\n",
    "    model.add(LSTM(20, input_shape=X.shape[1:]))\n",
    "    model.add(Dropout(0.3))\n",
    "    model.add(Flatten(input_shape=X.shape[1:]))\n",
    "    model.add(Dense(10, activation='relu'))\n",
    "    model.add(Dropout(0.3))\n",
    "    model.add(Dense(2, activation='softmax'))\n",
    "    optimizer = optimizers.Adam(lr=0.001,)\n",
    "    model.compile(loss='sparse_categorical_crossentropy', optimizer=optimizer, metrics=['accuracy'])\n",
    "    \n",
    "    model.fit(\n",
    "        X_train,\n",
    "        Y_train,\n",
    "        epochs=1,\n",
    "        batch_size=128,\n",
    "        validation_data=(X_test, Y_test),\n",
    "        verbose=2,\n",
    "        shuffle=False,\n",
    "    )\n",
    "    \n",
    "    model_history[target_column] = model"
   ]
  },
  {
   "cell_type": "code",
   "execution_count": 19,
   "metadata": {},
   "outputs": [],
   "source": [
    "class ModelHisotry(object):\n",
    "    model_values = ['loss', 'acc', 'val_loss', 'val_acc']\n",
    "    \n",
    "    def __init__(self, name, history_obj):\n",
    "        self.name = name\n",
    "        for key in self.model_values:\n",
    "            setattr(self, key, history_obj[key][-1])\n",
    "            \n",
    "    def __repr__(self):\n",
    "        f = {}\n",
    "        for key in self.model_values:\n",
    "            f[key] = [getattr(self, key)]\n",
    "        return str(f)\n",
    "    \n",
    "                \n",
    "    def __str__(self):\n",
    "        return '{}: {}'.format(self.name, self.__repr__())\n",
    "    \n",
    "    def to_csv(self, sep=', '):\n",
    "        return sep.join([str(getattr(self, key)) for key in ['name'] + self.model_values])\n",
    "    \n",
    "    @classmethod\n",
    "    def from_csv(cls, value_string, sep=', '):\n",
    "        h_obj = {}\n",
    "        values = value_string.split(sep)\n",
    "        for value, key in zip(values, ['name'] + cls.model_values):\n",
    "            h_obj[key] = [value]\n",
    "        \n",
    "        name = h_obj.pop('name')[0]\n",
    "        \n",
    "        return cls(name, h_obj)"
   ]
  },
  {
   "cell_type": "code",
   "execution_count": 20,
   "metadata": {},
   "outputs": [
    {
     "name": "stdout",
     "output_type": "stream",
     "text": [
      "XAU_AUD_close, 0.7422574997458637, 0.48220497, 0.6999254077433774, 0.51123595\n",
      "USB02Y_USD_close, 0.7716926300401257, 0.52956915, 0.7001667488635447, 0.54895663\n",
      "EUR_HKD_close, 0.807896382259372, 0.50254214, 0.727900325008227, 0.48394865\n",
      "XAU_JPY_close, 0.779987217718374, 0.50093657, 0.7143730586260126, 0.4951846\n",
      "TWIX_USD_close, 0.8414444474571683, 0.45999464, 0.7272717771905192, 0.48635635\n",
      "EUR_JPY_close, 0.7403982835304683, 0.48889485, 0.709941552309125, 0.48154092\n",
      "WHEAT_USD_close, 0.6947274222902222, 0.6023548, 0.6676901182814547, 0.62760836\n",
      "GBP_PLN_close, 0.7509782711930667, 0.49157077, 0.7141105458977517, 0.49036917\n",
      "GBP_JPY_close, 0.7239843322562763, 0.50789404, 0.70035291368659, 0.4975923\n",
      "USD_TRY_close, 0.8811321022008427, 0.49906343, 0.7497135192203674, 0.5144462\n",
      "HK33_HKD_close, 0.776050368381242, 0.52609044, 0.6622669117025923, 0.62760836\n",
      "EUR_CAD_close, 0.7775969693518463, 0.49344394, 0.7228372443353767, 0.4670947\n",
      "USD_SEK_close, 0.7567494117642648, 0.4961199, 0.7089964781871385, 0.5128411\n",
      "GBP_SGD_close, 0.7337635126476273, 0.50280976, 0.7031836890485467, 0.5280899\n",
      "XAU_HKD_close, 0.7546812099730359, 0.49397913, 0.6957125478150565, 0.5313002\n",
      "EUR_GBP_close, 0.7967182336275929, 0.51030236, 0.7179778614357999, 0.5184591\n",
      "US2000_USD_close, 0.7724994797103061, 0.4953171, 0.7247303356902366, 0.48956662\n",
      "XPD_USD_close, 0.8189524169876705, 0.49906343, 0.7496952791466568, 0.4775281\n",
      "SUGAR_USD_close, 0.6419817076221902, 0.6304522, 0.5648532813089043, 0.7600321\n",
      "US30_USD_close, 0.7937028764370517, 0.49424672, 0.7120214434726281, 0.50642055\n",
      "GBP_HKD_close, 0.709138911740806, 0.4902328, 0.7008773634751383, 0.49598715\n",
      "USB05Y_USD_close, 0.7384636637550132, 0.51137275, 0.7014468567711967, 0.53451043\n",
      "NATGAS_USD_close, 0.7163739409203003, 0.5228793, 0.686792872690657, 0.5529695\n",
      "USD_ZAR_close, 0.7952874873390738, 0.5052181, 0.7089688610494806, 0.5224719\n"
     ]
    }
   ],
   "source": [
    "for key, model in model_history.items():\n",
    "    h = ModelHisotry(key, model.history.history)\n",
    "    print (h.to_csv())"
   ]
  },
  {
   "cell_type": "code",
   "execution_count": 21,
   "metadata": {},
   "outputs": [],
   "source": [
    "fname = 'shallow_train_results.csv'"
   ]
  },
  {
   "cell_type": "code",
   "execution_count": 28,
   "metadata": {},
   "outputs": [],
   "source": [
    "hist = []\n",
    "\n",
    "with open('shallow_train_results.csv', 'r') as f:\n",
    "    for line in f:\n",
    "        h = ModelHisotry.from_csv(line)\n",
    "        hist.append(h)"
   ]
  },
  {
   "cell_type": "code",
   "execution_count": 33,
   "metadata": {},
   "outputs": [],
   "source": [
    "sorted_hist = sorted(hist, key=lambda x: x.acc, reverse=True)"
   ]
  },
  {
   "cell_type": "code",
   "execution_count": 38,
   "metadata": {},
   "outputs": [
    {
     "name": "stdout",
     "output_type": "stream",
     "text": [
      "USD_SAR_close: 0.7390955\n",
      "UK10YB_GBP_close: 0.66657746\n",
      "EU50_EUR_close: 0.6620284\n",
      "SUGAR_USD_close: 0.6304522\n",
      "WHEAT_USD_close: 0.6023548\n",
      "USB10Y_USD_close: 0.5721167\n",
      "DE30_EUR_close: 0.5520471\n",
      "UK100_GBP_close: 0.5512443\n",
      "DE10YB_EUR_close: 0.5341183\n",
      "USB02Y_USD_close: 0.52956915\n",
      "HK33_HKD_close: 0.52609044\n",
      "SOYBN_USD_close: 0.5242173\n",
      "NATGAS_USD_close: 0.5228793\n",
      "FR40_EUR_close: 0.5199358\n",
      "USD_INR_close: 0.5185978\n",
      "NZD_JPY_close: 0.5159219\n",
      "GBP_CAD_close: 0.5153867\n",
      "EUR_CZK_close: 0.51378113\n",
      "ZAR_JPY_close: 0.51378113\n",
      "XAG_USD_close: 0.5135135\n",
      "XAG_CAD_close: 0.5124431\n",
      "CAD_HKD_close: 0.51190794\n",
      "NZD_CHF_close: 0.51137275\n",
      "XAU_SGD_close: 0.51137275\n",
      "USB05Y_USD_close: 0.51137275\n",
      "CAD_CHF_close: 0.51030236\n",
      "EUR_GBP_close: 0.51030236\n",
      "USD_THB_close: 0.5097672\n",
      "XAU_USD_close: 0.509232\n",
      "GBP_CHF_close: 0.5081616\n",
      "GBP_JPY_close: 0.50789404\n",
      "USD_HKD_close: 0.50682366\n",
      "XAG_EUR_close: 0.50628847\n",
      "NZD_CAD_close: 0.50628847\n",
      "XAU_EUR_close: 0.5054857\n",
      "EUR_NOK_close: 0.5052181\n",
      "USD_ZAR_close: 0.5052181\n",
      "XAU_GBP_close: 0.5049505\n",
      "CAD_JPY_close: 0.5046829\n",
      "CHF_HKD_close: 0.50388014\n",
      "XAU_CHF_close: 0.5036125\n",
      "WTICO_USD_close: 0.5036125\n",
      "NAS100_USD_close: 0.50334495\n",
      "XCU_USD_close: 0.50280976\n",
      "GBP_SGD_close: 0.50280976\n",
      "EUR_HKD_close: 0.50254214\n",
      "AUD_HKD_close: 0.5022746\n",
      "CHF_JPY_close: 0.5022746\n",
      "HKD_JPY_close: 0.5017394\n",
      "NZD_HKD_close: 0.50147176\n",
      "USD_HUF_close: 0.50093657\n",
      "XAU_JPY_close: 0.50093657\n",
      "AUD_SGD_close: 0.49986622\n",
      "EUR_NZD_close: 0.49959862\n",
      "USD_CAD_close: 0.49906343\n",
      "USD_TRY_close: 0.49906343\n",
      "XPD_USD_close: 0.49906343\n",
      "EUR_PLN_close: 0.49879584\n",
      "EUR_CHF_close: 0.49879584\n",
      "TRY_JPY_close: 0.49879584\n",
      "CHF_ZAR_close: 0.49852824\n",
      "SGD_CHF_close: 0.49852824\n",
      "USD_CHF_close: 0.49826065\n",
      "BCO_USD_close: 0.49799305\n",
      "XAG_JPY_close: 0.49799305\n",
      "USD_MXN_close: 0.49745786\n",
      "EUR_ZAR_close: 0.49719027\n",
      "XAG_GBP_close: 0.4961199\n",
      "USD_SEK_close: 0.4961199\n",
      "AUD_CHF_close: 0.4958523\n",
      "NZD_SGD_close: 0.4955847\n",
      "US2000_USD_close: 0.4953171\n",
      "AU200_AUD_close: 0.4947819\n",
      "SGD_JPY_close: 0.49424672\n",
      "US30_USD_close: 0.49424672\n",
      "XAU_HKD_close: 0.49397913\n",
      "AUD_USD_close: 0.49371153\n",
      "EUR_CAD_close: 0.49344394\n",
      "GBP_NZD_close: 0.49237356\n",
      "NL25_EUR_close: 0.49237356\n",
      "GBP_ZAR_close: 0.49210596\n",
      "GBP_USD_close: 0.49183837\n",
      "GBP_PLN_close: 0.49157077\n",
      "XPT_USD_close: 0.49130318\n",
      "EUR_AUD_close: 0.49103558\n",
      "CAD_SGD_close: 0.490768\n",
      "EUR_DKK_close: 0.4902328\n",
      "GBP_HKD_close: 0.4902328\n",
      "XAG_NZD_close: 0.48889485\n",
      "EUR_JPY_close: 0.48889485\n",
      "USB30Y_USD_close: 0.48835966\n",
      "XAG_SGD_close: 0.48782447\n",
      "USD_DKK_close: 0.4867541\n",
      "USD_NOK_close: 0.48300776\n",
      "XAU_AUD_close: 0.48220497\n",
      "AUD_JPY_close: 0.48166978\n",
      "XAU_NZD_close: 0.4803318\n",
      "XAU_XAG_close: 0.47899383\n",
      "AUD_CAD_close: 0.4765855\n",
      "SG30_SGD_close: 0.47497994\n",
      "XAG_CHF_close: 0.47390956\n",
      "CN50_USD_close: 0.46748728\n",
      "TWIX_USD_close: 0.45999464\n",
      "CORN_USD_close: 0.40915173\n"
     ]
    }
   ],
   "source": [
    "for h in sorted_hist:\n",
    "    print ('{}: {}'.format(h.name, h.acc))"
   ]
  }
 ],
 "metadata": {
  "kernelspec": {
   "display_name": "Django Shell-Plus",
   "language": "python",
   "name": "django_extensions"
  },
  "language_info": {
   "codemirror_mode": {
    "name": "ipython",
    "version": 3
   },
   "file_extension": ".py",
   "mimetype": "text/x-python",
   "name": "python",
   "nbconvert_exporter": "python",
   "pygments_lexer": "ipython3",
   "version": "3.6.8"
  }
 },
 "nbformat": 4,
 "nbformat_minor": 2
}
